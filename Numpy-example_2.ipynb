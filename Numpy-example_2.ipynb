{
 "cells": [
  {
   "cell_type": "code",
   "execution_count": 1,
   "id": "3865c0d5-cc80-4202-ab9d-f1a540e297ab",
   "metadata": {},
   "outputs": [],
   "source": [
    "import numpy as np"
   ]
  },
  {
   "cell_type": "code",
   "execution_count": 2,
   "id": "ced2dd0e-014b-4cb5-820d-25222c1adabe",
   "metadata": {},
   "outputs": [
    {
     "name": "stdout",
     "output_type": "stream",
     "text": [
      "[[1 1 1]\n",
      " [1 1 1]\n",
      " [1 1 1]]\n"
     ]
    }
   ],
   "source": [
    "mx_1s = np.array([[1,1,1,],[1,1,1],[1,1,1]])\n",
    "print(mx_1s)"
   ]
  },
  {
   "cell_type": "code",
   "execution_count": 5,
   "id": "a5f4b854-be9b-4347-9e3e-36c7c47adbfb",
   "metadata": {},
   "outputs": [
    {
     "name": "stdout",
     "output_type": "stream",
     "text": [
      "[1. 1. 1. 1. 1.]\n"
     ]
    }
   ],
   "source": [
    "mx_1s = np.ones(5)\n",
    "print(mx_1s)"
   ]
  },
  {
   "cell_type": "code",
   "execution_count": 6,
   "id": "3d561514-949b-478d-b3b7-ab9a15f2ce9d",
   "metadata": {},
   "outputs": [
    {
     "data": {
      "text/plain": [
       "dtype('float64')"
      ]
     },
     "execution_count": 6,
     "metadata": {},
     "output_type": "execute_result"
    }
   ],
   "source": [
    "mx_1s.dtype"
   ]
  },
  {
   "cell_type": "code",
   "execution_count": 7,
   "id": "9de391ea-e7e0-4cd3-8ed7-fc1d03fc9bbe",
   "metadata": {},
   "outputs": [
    {
     "name": "stdout",
     "output_type": "stream",
     "text": [
      "[[1. 1. 1. 1.]\n",
      " [1. 1. 1. 1.]\n",
      " [1. 1. 1. 1.]]\n"
     ]
    }
   ],
   "source": [
    "mx_1s = np.ones((3,4))\n",
    "print(mx_1s)"
   ]
  },
  {
   "cell_type": "code",
   "execution_count": 8,
   "id": "f48ed890-ec32-4a86-a53a-7a4e8c22b627",
   "metadata": {},
   "outputs": [
    {
     "name": "stdout",
     "output_type": "stream",
     "text": [
      "[[1 1 1 1]\n",
      " [1 1 1 1]\n",
      " [1 1 1 1]]\n"
     ]
    }
   ],
   "source": [
    "mx_1s = np.ones((3,4), dtype = int)\n",
    "print(mx_1s)"
   ]
  },
  {
   "cell_type": "code",
   "execution_count": 9,
   "id": "212d5bfc-177d-4cc6-9cf3-96c83781b2ff",
   "metadata": {},
   "outputs": [
    {
     "name": "stdout",
     "output_type": "stream",
     "text": [
      "[[0. 0. 0. 0. 0. 0.]\n",
      " [0. 0. 0. 0. 0. 0.]\n",
      " [0. 0. 0. 0. 0. 0.]\n",
      " [0. 0. 0. 0. 0. 0.]]\n"
     ]
    }
   ],
   "source": [
    "mx_0s = np.zeros((4,6))\n",
    "print(mx_0s)"
   ]
  },
  {
   "cell_type": "code",
   "execution_count": 10,
   "id": "debb274b-5286-4a69-960c-d3e57b4df545",
   "metadata": {},
   "outputs": [
    {
     "name": "stdout",
     "output_type": "stream",
     "text": [
      "[[False False False False False False]\n",
      " [False False False False False False]\n",
      " [False False False False False False]\n",
      " [False False False False False False]]\n"
     ]
    }
   ],
   "source": [
    "mx_0s = np.zeros((4,6), dtype = bool)\n",
    "print(mx_0s)"
   ]
  },
  {
   "cell_type": "code",
   "execution_count": 11,
   "id": "04ee57ce-3141-41a0-af02-3c29bffea39f",
   "metadata": {},
   "outputs": [
    {
     "name": "stdout",
     "output_type": "stream",
     "text": [
      "[['' '' '' '' '' '']\n",
      " ['' '' '' '' '' '']\n",
      " ['' '' '' '' '' '']\n",
      " ['' '' '' '' '' '']]\n"
     ]
    }
   ],
   "source": [
    "mx_0s = np.zeros((4,6), dtype = str)\n",
    "print(mx_0s)"
   ]
  },
  {
   "cell_type": "code",
   "execution_count": 12,
   "id": "d1b58156-eb1b-49db-9978-1bddc1906363",
   "metadata": {},
   "outputs": [
    {
     "name": "stdout",
     "output_type": "stream",
     "text": [
      "False\n"
     ]
    }
   ],
   "source": [
    "em_str = ''\n",
    "print(bool(em_str))"
   ]
  },
  {
   "cell_type": "code",
   "execution_count": 13,
   "id": "30894a38-bb6f-4a9c-b979-54742fe7b539",
   "metadata": {},
   "outputs": [
    {
     "name": "stdout",
     "output_type": "stream",
     "text": [
      "[[5.e-324 5.e-324 5.e-324]\n",
      " [5.e-324 5.e-324 5.e-324]\n",
      " [5.e-324 5.e-324 5.e-324]]\n"
     ]
    }
   ],
   "source": [
    "em_mx = np.empty((3,3))\n",
    "print(em_mx)"
   ]
  },
  {
   "cell_type": "code",
   "execution_count": null,
   "id": "3c6e6ca6-ce3a-47a0-beab-494c6b8989cd",
   "metadata": {},
   "outputs": [],
   "source": []
  }
 ],
 "metadata": {
  "kernelspec": {
   "display_name": "Python 3 (ipykernel)",
   "language": "python",
   "name": "python3"
  },
  "language_info": {
   "codemirror_mode": {
    "name": "ipython",
    "version": 3
   },
   "file_extension": ".py",
   "mimetype": "text/x-python",
   "name": "python",
   "nbconvert_exporter": "python",
   "pygments_lexer": "ipython3",
   "version": "3.12.5"
  }
 },
 "nbformat": 4,
 "nbformat_minor": 5
}
