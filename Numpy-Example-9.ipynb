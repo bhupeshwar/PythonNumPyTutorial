{
 "cells": [
  {
   "cell_type": "markdown",
   "id": "9c8ab50f-2d22-4ecf-932d-9015c6e5157d",
   "metadata": {},
   "source": [
    "# NumPy string Operations, string comparison, and string information methods"
   ]
  },
  {
   "cell_type": "code",
   "execution_count": 1,
   "id": "74e804c8-b0f7-4167-a34f-10bf20da198a",
   "metadata": {},
   "outputs": [],
   "source": [
    "import numpy as np"
   ]
  },
  {
   "cell_type": "code",
   "execution_count": 9,
   "id": "064d87d7-66cf-4b5e-914d-f3e9b487fdc4",
   "metadata": {},
   "outputs": [],
   "source": [
    "ch_name = \"Bhupeshwar Pathania\"\n",
    "str1 = \"Never Stop Learning\""
   ]
  },
  {
   "cell_type": "code",
   "execution_count": 3,
   "id": "a3597a95-b8a6-4c8c-847c-79cd210f8ade",
   "metadata": {},
   "outputs": [
    {
     "data": {
      "text/plain": [
       "np.str_('Bhupeshwar Pathania - Never Stop LearningLearning Python Numpy')"
      ]
     },
     "execution_count": 3,
     "metadata": {},
     "output_type": "execute_result"
    }
   ],
   "source": [
    "np.char.add(ch_name,str1)"
   ]
  },
  {
   "cell_type": "code",
   "execution_count": 10,
   "id": "1f0e7bd1-8fe7-4b23-8a34-f3bdef50c141",
   "metadata": {},
   "outputs": [
    {
     "data": {
      "text/plain": [
       "array('bhupeshwar pathania', dtype='<U19')"
      ]
     },
     "execution_count": 10,
     "metadata": {},
     "output_type": "execute_result"
    }
   ],
   "source": [
    "np.char.lower(ch_name)"
   ]
  },
  {
   "cell_type": "code",
   "execution_count": 11,
   "id": "d4a4bab8-7336-47e9-b167-f183356447bc",
   "metadata": {},
   "outputs": [
    {
     "data": {
      "text/plain": [
       "array('NEVER STOP LEARNING', dtype='<U19')"
      ]
     },
     "execution_count": 11,
     "metadata": {},
     "output_type": "execute_result"
    }
   ],
   "source": [
    "np.char.upper(str1)"
   ]
  },
  {
   "cell_type": "code",
   "execution_count": 12,
   "id": "4c989484-f130-4438-b413-604377b9f491",
   "metadata": {},
   "outputs": [
    {
     "data": {
      "text/plain": [
       "array('                    Never Stop Learning                     ',\n",
       "      dtype='<U60')"
      ]
     },
     "execution_count": 12,
     "metadata": {},
     "output_type": "execute_result"
    }
   ],
   "source": [
    "np.char.center(str1, 60)"
   ]
  },
  {
   "cell_type": "code",
   "execution_count": 13,
   "id": "97b600c1-9197-4422-b0ad-b5e233fe6651",
   "metadata": {},
   "outputs": [
    {
     "data": {
      "text/plain": [
       "array('********************Never Stop Learning*********************',\n",
       "      dtype='<U60')"
      ]
     },
     "execution_count": 13,
     "metadata": {},
     "output_type": "execute_result"
    }
   ],
   "source": [
    "np.char.center(str1, 60 , fillchar=\"*\")"
   ]
  },
  {
   "cell_type": "code",
   "execution_count": 14,
   "id": "61fa1219-27f5-43a9-9d1a-6d40662c7fa7",
   "metadata": {},
   "outputs": [
    {
     "data": {
      "text/plain": [
       "array(list(['Bhupeshwar', 'Pathania']), dtype=object)"
      ]
     },
     "execution_count": 14,
     "metadata": {},
     "output_type": "execute_result"
    }
   ],
   "source": [
    "np.char.split(ch_name)"
   ]
  },
  {
   "cell_type": "code",
   "execution_count": 24,
   "id": "8690db8b-844c-41a5-ab27-792a4d0a7c0b",
   "metadata": {},
   "outputs": [
    {
     "data": {
      "text/plain": [
       "array(list(['Hello', 'Bhupeshwar Pathania']), dtype=object)"
      ]
     },
     "execution_count": 24,
     "metadata": {},
     "output_type": "execute_result"
    }
   ],
   "source": [
    "np.char.splitlines(\"Hello\\nBhupeshwar Pathania\")"
   ]
  },
  {
   "cell_type": "code",
   "execution_count": 19,
   "id": "f59bc9de-d850-4b7c-9195-96483d3e9055",
   "metadata": {},
   "outputs": [],
   "source": [
    "str4 = \"dmy\"\n",
    "str5 = \"dmy\""
   ]
  },
  {
   "cell_type": "code",
   "execution_count": 21,
   "id": "5c05653e-e420-4033-b448-8bc123524b1f",
   "metadata": {},
   "outputs": [
    {
     "data": {
      "text/plain": [
       "array(['d:m:y', 'd/m/y'], dtype='<U5')"
      ]
     },
     "execution_count": 21,
     "metadata": {},
     "output_type": "execute_result"
    }
   ],
   "source": [
    "np.char.join([\":\", \"/\"], [str4,str5])"
   ]
  },
  {
   "cell_type": "code",
   "execution_count": 22,
   "id": "9bca6c2c-dccd-4b3e-ab6e-127be6022039",
   "metadata": {},
   "outputs": [
    {
     "data": {
      "text/plain": [
       "array('Natural Language Proc in the Real World', dtype='<U39')"
      ]
     },
     "execution_count": 22,
     "metadata": {},
     "output_type": "execute_result"
    }
   ],
   "source": [
    "str11 = \"NLP in the Real World\"\n",
    "np.char.replace(str11 , \"NLP\" , \"Natural Language Processing\" )"
   ]
  },
  {
   "cell_type": "code",
   "execution_count": 23,
   "id": "c29f4257-1c3b-40b1-9b69-4a8a462e9a26",
   "metadata": {},
   "outputs": [
    {
     "data": {
      "text/plain": [
       "array(True)"
      ]
     },
     "execution_count": 23,
     "metadata": {},
     "output_type": "execute_result"
    }
   ],
   "source": [
    "np.char.equal(str4,str5)"
   ]
  },
  {
   "cell_type": "code",
   "execution_count": 25,
   "id": "4e15416f-f2fa-4ba7-a9e7-03c5c4c9aa2e",
   "metadata": {},
   "outputs": [
    {
     "data": {
      "text/plain": [
       "np.int64(4)"
      ]
     },
     "execution_count": 25,
     "metadata": {},
     "output_type": "execute_result"
    }
   ],
   "source": [
    "np.char.count(ch_name, \"a\")"
   ]
  },
  {
   "cell_type": "code",
   "execution_count": 26,
   "id": "be554637-3d16-4882-b817-e82d6457118e",
   "metadata": {},
   "outputs": [
    {
     "data": {
      "text/plain": [
       "'Bhupeshwar Pathania'"
      ]
     },
     "execution_count": 26,
     "metadata": {},
     "output_type": "execute_result"
    }
   ],
   "source": [
    "ch_name"
   ]
  },
  {
   "cell_type": "code",
   "execution_count": 27,
   "id": "87be3611-6fd8-49b0-a2f8-34a6f16649d0",
   "metadata": {},
   "outputs": [
    {
     "data": {
      "text/plain": [
       "np.int64(11)"
      ]
     },
     "execution_count": 27,
     "metadata": {},
     "output_type": "execute_result"
    }
   ],
   "source": [
    "np.char.find(ch_name, \"P\")"
   ]
  },
  {
   "cell_type": "code",
   "execution_count": null,
   "id": "b1e61680-a55a-459e-9a56-ad19fe31ee36",
   "metadata": {},
   "outputs": [],
   "source": []
  }
 ],
 "metadata": {
  "kernelspec": {
   "display_name": "Python 3 (ipykernel)",
   "language": "python",
   "name": "python3"
  },
  "language_info": {
   "codemirror_mode": {
    "name": "ipython",
    "version": 3
   },
   "file_extension": ".py",
   "mimetype": "text/x-python",
   "name": "python",
   "nbconvert_exporter": "python",
   "pygments_lexer": "ipython3",
   "version": "3.12.5"
  }
 },
 "nbformat": 4,
 "nbformat_minor": 5
}
