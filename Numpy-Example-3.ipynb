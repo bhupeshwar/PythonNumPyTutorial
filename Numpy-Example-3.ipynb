{
 "cells": [
  {
   "cell_type": "markdown",
   "id": "a780f9dd-2486-4f10-b385-af6e7e39a8b3",
   "metadata": {},
   "source": [
    "# NumPy Functions :"
   ]
  },
  {
   "cell_type": "code",
   "execution_count": 3,
   "id": "04f4049e-ad19-4ed4-b27a-45ee678324ad",
   "metadata": {},
   "outputs": [],
   "source": [
    "import numpy as np"
   ]
  },
  {
   "cell_type": "markdown",
   "id": "a14fe4d2-6d48-4560-843a-c7e271a42954",
   "metadata": {},
   "source": [
    "# arange()"
   ]
  },
  {
   "cell_type": "code",
   "execution_count": 13,
   "id": "fce9ff7b-261f-406c-ba8d-6c249a709e35",
   "metadata": {},
   "outputs": [
    {
     "name": "stdout",
     "output_type": "stream",
     "text": [
      "[ 1  3  5  7  9 11]\n"
     ]
    }
   ],
   "source": [
    "#np.arange(start, end , steps)\n",
    "ar1_1d = np.arange(1,13) \n",
    "print(ar_1d)"
   ]
  },
  {
   "cell_type": "code",
   "execution_count": 14,
   "id": "642bfbb8-0628-4d7a-ba0e-378f0bb8f74a",
   "metadata": {},
   "outputs": [
    {
     "name": "stdout",
     "output_type": "stream",
     "text": [
      "[ 1  3  5  7  9 11]\n"
     ]
    }
   ],
   "source": [
    "ar2_1d = np.arange(1,13,2) \n",
    "print(ar_1d)"
   ]
  },
  {
   "cell_type": "markdown",
   "id": "d451dc59-c5bb-46e0-992d-5bb9e77a26df",
   "metadata": {},
   "source": [
    "# linspace() "
   ]
  },
  {
   "cell_type": "code",
   "execution_count": 7,
   "id": "d49e6b5d-12a5-4d2b-9f21-e847ad5c1abd",
   "metadata": {},
   "outputs": [
    {
     "data": {
      "text/plain": [
       "array([1.        , 2.33333333, 3.66666667, 5.        ])"
      ]
     },
     "execution_count": 7,
     "metadata": {},
     "output_type": "execute_result"
    }
   ],
   "source": [
    "np.linspace(1,5,4) "
   ]
  },
  {
   "cell_type": "markdown",
   "id": "cd8d57a6-2d1c-4fc3-9675-f4c960bd2456",
   "metadata": {},
   "source": [
    "# reshape()"
   ]
  },
  {
   "cell_type": "code",
   "execution_count": 15,
   "id": "0dfcc7bb-ee3c-43e4-b864-2491cdb36319",
   "metadata": {},
   "outputs": [
    {
     "name": "stdout",
     "output_type": "stream",
     "text": [
      "[[ 1  2  3  4]\n",
      " [ 5  6  7  8]\n",
      " [ 9 10 11 12]]\n"
     ]
    }
   ],
   "source": [
    "ar_2d = ar1_1d.reshape(3,4)\n",
    "print(ar_2d)"
   ]
  },
  {
   "cell_type": "code",
   "execution_count": 16,
   "id": "ee6c5a2b-ab77-4ba3-8144-3cc3f5133928",
   "metadata": {},
   "outputs": [
    {
     "name": "stdout",
     "output_type": "stream",
     "text": [
      "[[[ 1  2]\n",
      "  [ 3  4]\n",
      "  [ 5  6]]\n",
      "\n",
      " [[ 7  8]\n",
      "  [ 9 10]\n",
      "  [11 12]]]\n"
     ]
    }
   ],
   "source": [
    "ar_23d = ar1_1d.reshape(2,3,2)\n",
    "print(ar_23d)"
   ]
  },
  {
   "cell_type": "code",
   "execution_count": 17,
   "id": "9145a830-d4a1-4388-9ced-45bf4c01d9d1",
   "metadata": {},
   "outputs": [
    {
     "name": "stdout",
     "output_type": "stream",
     "text": [
      "[[ 1  2  3  4  5  6]\n",
      " [ 7  8  9 10 11 12]]\n"
     ]
    }
   ],
   "source": [
    "ar = np.arange(1,13).reshape(2,6)\n",
    "print(ar)"
   ]
  },
  {
   "cell_type": "markdown",
   "id": "e6509fba-a464-40b4-90e7-4bb1698878dc",
   "metadata": {},
   "source": [
    "# ravel()"
   ]
  },
  {
   "cell_type": "code",
   "execution_count": 18,
   "id": "4b2691d6-236f-48d7-ad73-3b7a2a60bfa0",
   "metadata": {},
   "outputs": [
    {
     "data": {
      "text/plain": [
       "array([ 1,  2,  3,  4,  5,  6,  7,  8,  9, 10, 11, 12])"
      ]
     },
     "execution_count": 18,
     "metadata": {},
     "output_type": "execute_result"
    }
   ],
   "source": [
    "ar.ravel()"
   ]
  },
  {
   "cell_type": "markdown",
   "id": "82574e61-703c-449d-ae38-78e9b01ff9a2",
   "metadata": {},
   "source": [
    "# flatten()"
   ]
  },
  {
   "cell_type": "code",
   "execution_count": 19,
   "id": "d68c6acb-aa4b-454f-9b68-5e7396a735df",
   "metadata": {},
   "outputs": [
    {
     "data": {
      "text/plain": [
       "array([ 1,  2,  3,  4,  5,  6,  7,  8,  9, 10, 11, 12])"
      ]
     },
     "execution_count": 19,
     "metadata": {},
     "output_type": "execute_result"
    }
   ],
   "source": [
    "ar.flatten()"
   ]
  },
  {
   "cell_type": "markdown",
   "id": "52e9a8bd-b4da-484e-9adf-f2e2569ada23",
   "metadata": {},
   "source": [
    "# transpose()"
   ]
  },
  {
   "cell_type": "code",
   "execution_count": 20,
   "id": "2b123426-8b77-4ca5-9222-937a07a12200",
   "metadata": {},
   "outputs": [
    {
     "data": {
      "text/plain": [
       "array([[ 1,  7],\n",
       "       [ 2,  8],\n",
       "       [ 3,  9],\n",
       "       [ 4, 10],\n",
       "       [ 5, 11],\n",
       "       [ 6, 12]])"
      ]
     },
     "execution_count": 20,
     "metadata": {},
     "output_type": "execute_result"
    }
   ],
   "source": [
    "ar.transpose()"
   ]
  },
  {
   "cell_type": "code",
   "execution_count": 21,
   "id": "171c0b14-0495-4c6a-b7ba-72935991a5dc",
   "metadata": {},
   "outputs": [
    {
     "data": {
      "text/plain": [
       "array([[ 1,  7],\n",
       "       [ 2,  8],\n",
       "       [ 3,  9],\n",
       "       [ 4, 10],\n",
       "       [ 5, 11],\n",
       "       [ 6, 12]])"
      ]
     },
     "execution_count": 21,
     "metadata": {},
     "output_type": "execute_result"
    }
   ],
   "source": [
    "ar.T"
   ]
  },
  {
   "cell_type": "code",
   "execution_count": null,
   "id": "e4bc15e3-366c-4dda-8870-7d5abb15c4a0",
   "metadata": {},
   "outputs": [],
   "source": []
  }
 ],
 "metadata": {
  "kernelspec": {
   "display_name": "Python 3 (ipykernel)",
   "language": "python",
   "name": "python3"
  },
  "language_info": {
   "codemirror_mode": {
    "name": "ipython",
    "version": 3
   },
   "file_extension": ".py",
   "mimetype": "text/x-python",
   "name": "python",
   "nbconvert_exporter": "python",
   "pygments_lexer": "ipython3",
   "version": "3.12.5"
  }
 },
 "nbformat": 4,
 "nbformat_minor": 5
}
